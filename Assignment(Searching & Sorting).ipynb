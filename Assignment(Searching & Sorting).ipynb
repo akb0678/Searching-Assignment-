{
 "cells": [
  {
   "cell_type": "markdown",
   "id": "33df0ee8",
   "metadata": {},
   "source": [
    "### Implement Binary Search"
   ]
  },
  {
   "cell_type": "code",
   "execution_count": 1,
   "id": "0be6bdb1",
   "metadata": {},
   "outputs": [
    {
     "name": "stdout",
     "output_type": "stream",
     "text": [
      "Element found at index : 4\n"
     ]
    }
   ],
   "source": [
    "def binary(arr,x):\n",
    "    n = len(arr)\n",
    "    low = 0\n",
    "    high = n - 1\n",
    "    mid = 0\n",
    "    while low <= high:\n",
    "        mid = high + low // 2\n",
    "        if arr[mid]<x:\n",
    "            low = mid + 1\n",
    "        elif arr[mid]>x:\n",
    "            high = mid - 1\n",
    "        else:\n",
    "            return mid\n",
    "    return -1\n",
    "arr = [1,2,3,4,7,8,9]\n",
    "x = 7\n",
    "result = binary(arr,x)\n",
    "if result != -1:\n",
    "    print(\"Element found at index :\",result)\n",
    "else:\n",
    "    print(\"Element is not present.\")"
   ]
  },
  {
   "cell_type": "markdown",
   "id": "1cced1ac",
   "metadata": {},
   "source": [
    "### Implement Merge Sort"
   ]
  },
  {
   "cell_type": "code",
   "execution_count": 2,
   "id": "7a790c6d",
   "metadata": {},
   "outputs": [
    {
     "name": "stdout",
     "output_type": "stream",
     "text": [
      "sorted array is:\n",
      "1 5 6 9 10 12 \n"
     ]
    }
   ],
   "source": [
    "def mergesort(arr):\n",
    "    if len(arr)>1:\n",
    "        m = len(arr)//2\n",
    "        l = arr[:m]\n",
    "        r = arr[m:]\n",
    "        mergesort(l)\n",
    "        mergesort(r)\n",
    "        i=j=k=0\n",
    "        while(i < len(l)) and (j<len(r)):\n",
    "            if l[i] < r[j]:\n",
    "                arr[k] = l [i]\n",
    "                i = i+1\n",
    "            else:\n",
    "                arr[k] = r[j]\n",
    "                j = j +1\n",
    "            k = k+1\n",
    "        while i <len(l):\n",
    "            arr[k] = l[i]\n",
    "            i = i+ 1\n",
    "            k = k+1\n",
    "        while j<len(r):\n",
    "            arr[k] = r[j]\n",
    "            j = j +1\n",
    "            k = k+1\n",
    "def printlist(arr):\n",
    "    for i in range(len(arr)):\n",
    "        print(arr[i],end = \" \")\n",
    "    print()\n",
    "arr = [6,5,12,10,9,1]\n",
    "mergesort(arr)\n",
    "print(\"sorted array is:\")\n",
    "printlist(arr)"
   ]
  },
  {
   "cell_type": "markdown",
   "id": "b7aa9e15",
   "metadata": {},
   "source": [
    "### Implement Quick Sort\n"
   ]
  },
  {
   "cell_type": "code",
   "execution_count": 3,
   "id": "64fabffa",
   "metadata": {},
   "outputs": [
    {
     "name": "stdout",
     "output_type": "stream",
     "text": [
      "Unsorted Array\n",
      "[8, 7, 2, 1, 0, 9, 6]\n",
      "Sorted array in ascending order:\n",
      "[0, 1, 2, 6, 7, 8, 9]\n"
     ]
    }
   ],
   "source": [
    "\n",
    "def partition(arr,low,high):\n",
    "    pivot = arr[high]\n",
    "    i = low - 1\n",
    "    for j in range(low,high):\n",
    "        if arr[j]<= pivot:\n",
    "            i=i+1\n",
    "            (arr[i],arr[j])=(arr[j],arr[i])\n",
    "    (arr[i+1],arr[high]) = (arr[high],arr[i+1])\n",
    "    return i+1\n",
    "def quicksort(arr,low,high):\n",
    "    if low<high:\n",
    "        pi = partition(arr,low,high)\n",
    "        quicksort(arr,low,pi -1)\n",
    "        quicksort(arr,pi+1,high)\n",
    "data = [8,7,2,1,0,9,6]\n",
    "print(\"Unsorted Array\")\n",
    "print(data)\n",
    "size = len(data)\n",
    "quicksort(data,0,size - 1)\n",
    "print(\"Sorted array in ascending order:\")\n",
    "print(data)\n",
    "            "
   ]
  },
  {
   "cell_type": "markdown",
   "id": "8eccc01d",
   "metadata": {},
   "source": [
    "### Implement Insertion Sort\n"
   ]
  },
  {
   "cell_type": "code",
   "execution_count": 4,
   "id": "84c152f8",
   "metadata": {},
   "outputs": [
    {
     "name": "stdout",
     "output_type": "stream",
     "text": [
      "Sorted Array is : [1, 2, 4, 7, 10]\n"
     ]
    }
   ],
   "source": [
    "# First Approach :-\n",
    "def insert(arr,i):\n",
    "    temp = arr[i]\n",
    "    j = i - 1\n",
    "    while(j>=0 and arr[j]>temp):\n",
    "        arr[j+1] = arr[j]\n",
    "        j -= 1\n",
    "    arr[j+1] = temp\n",
    "def search(arr):\n",
    "    n = len(arr)\n",
    "    for i in range(1,n):\n",
    "        insert(arr,i)\n",
    "arr = [4,7,2,1,10]\n",
    "search(arr)\n",
    "print(\"Sorted Array is :\",arr)"
   ]
  },
  {
   "cell_type": "code",
   "execution_count": 5,
   "id": "97d95542",
   "metadata": {},
   "outputs": [
    {
     "name": "stdout",
     "output_type": "stream",
     "text": [
      "Sorted list: [1, 2, 6, 9, 12, 24, 45, 78, 80]\n"
     ]
    }
   ],
   "source": [
    "# Second Approach :-\n",
    "l = [80,1,9,78,45,6,12,2,24]\n",
    "for i in range(len(l)):\n",
    "    tem=l[i]\n",
    "    j=i-1\n",
    "    while(j>=0 and tem<l[j]):\n",
    "        l[j+1]=l[j]\n",
    "        j = j-1\n",
    "    l[j+1]=tem\n",
    "print(\"Sorted list:\",l)"
   ]
  },
  {
   "cell_type": "markdown",
   "id": "5eddf1a2",
   "metadata": {},
   "source": [
    "### Write a program to sort list of strings (similar to that of dictionary)\n"
   ]
  },
  {
   "cell_type": "code",
   "execution_count": 6,
   "id": "6fcccd38",
   "metadata": {},
   "outputs": [
    {
     "name": "stdout",
     "output_type": "stream",
     "text": [
      "['apple', 'banana', 'cat', 'dog', 'zebra']\n"
     ]
    }
   ],
   "source": [
    "strings = [\"apple\", \"zebra\", \"banana\", \"cat\", \"dog\"]\n",
    "\n",
    "strings.sort()\n",
    "print(strings)\n"
   ]
  },
  {
   "cell_type": "code",
   "execution_count": null,
   "id": "fb260aa8",
   "metadata": {},
   "outputs": [],
   "source": []
  }
 ],
 "metadata": {
  "kernelspec": {
   "display_name": "Python 3 (ipykernel)",
   "language": "python",
   "name": "python3"
  },
  "language_info": {
   "codemirror_mode": {
    "name": "ipython",
    "version": 3
   },
   "file_extension": ".py",
   "mimetype": "text/x-python",
   "name": "python",
   "nbconvert_exporter": "python",
   "pygments_lexer": "ipython3",
   "version": "3.9.12"
  }
 },
 "nbformat": 4,
 "nbformat_minor": 5
}
